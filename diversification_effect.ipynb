{
 "cells": [
  {
   "cell_type": "code",
   "execution_count": null,
   "id": "0c961c91",
   "metadata": {},
   "outputs": [],
   "source": [
    "#匯入套件\n",
    "import numpy as np\n",
    "import pandas as pd\n",
    "from pandas_datareader import data as wb\n",
    "import random,requests,re\n",
    "import matplotlib.pyplot as plt"
   ]
  },
  {
   "cell_type": "code",
   "execution_count": null,
   "id": "9edaf7bc",
   "metadata": {
    "scrolled": true
   },
   "outputs": [],
   "source": [
    "#台股上市公司代碼清單\n",
    "res = requests.get(\"https://isin.twse.com.tw/isin/class_main.jsp?owncode=&stockname=&isincode=&market=1&issuetype=1&industry_code=&Page=1&chklike=Y\")\n",
    "df = pd.read_html(res.text)[0][2][1:]+\".TW\""
   ]
  },
  {
   "cell_type": "code",
   "execution_count": null,
   "id": "3febdd54",
   "metadata": {},
   "outputs": [],
   "source": [
    "#爬取股價資訊及生成最大的共變異數矩陣\n",
    "port = random.choices(df,k=100)\n",
    "mydata = pd.DataFrame()\n",
    "#爬取股價資訊(需要一點時間)\n",
    "for t in range(0,100):\n",
    "    mydata[port[t]] = wb.DataReader(port[t],data_source ='yahoo', start ='2020-10-1', end ='2021-10-1')['Adj Close']"
   ]
  },
  {
   "cell_type": "code",
   "execution_count": null,
   "id": "f3a8e90e",
   "metadata": {
    "scrolled": true
   },
   "outputs": [],
   "source": [
    "#計算每日報酬\n",
    "port_returns = np.log(mydata / mydata.shift(1))\n",
    "#共變異數矩陣\n",
    "cov_matrix = port_returns.cov() \n",
    "cov_matrix"
   ]
  },
  {
   "cell_type": "code",
   "execution_count": null,
   "id": "031a812e",
   "metadata": {
    "scrolled": true
   },
   "outputs": [],
   "source": [
    "#計算投組標準差\n",
    "vol_list = []\n",
    "for i in range(1,101):\n",
    "    var_bar = (np.diag(cov_matrix.iloc[0:i,0:i]).mean())/i\n",
    "    cov_bar = sum(sum(np.triu(cov_matrix.iloc[0:i,0:i],1)))\n",
    "    port_vol = (var_bar+cov_bar/(i**2))**0.5\n",
    "    vol_list.append(port_vol)\n",
    "    \n",
    "vol_list"
   ]
  },
  {
   "cell_type": "code",
   "execution_count": null,
   "id": "0547184d",
   "metadata": {},
   "outputs": [],
   "source": [
    "#畫圖\n",
    "plt.xlabel(\"Number of assets\")\n",
    "plt.ylabel(\"Risk of portfolio\")\n",
    "plt.title(\"The Effect of Diversification\")\n",
    "plt.xticks(np.arange(10,101,10))\n",
    "plt.plot(vol_list)"
   ]
  }
 ],
 "metadata": {
  "kernelspec": {
   "display_name": "Python 3 (ipykernel)",
   "language": "python",
   "name": "python3"
  },
  "language_info": {
   "codemirror_mode": {
    "name": "ipython",
    "version": 3
   },
   "file_extension": ".py",
   "mimetype": "text/x-python",
   "name": "python",
   "nbconvert_exporter": "python",
   "pygments_lexer": "ipython3",
   "version": "3.9.7"
  }
 },
 "nbformat": 4,
 "nbformat_minor": 5
}
